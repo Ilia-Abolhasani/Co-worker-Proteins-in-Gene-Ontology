{
 "cells": [
  {
   "cell_type": "markdown",
   "metadata": {
    "colab_type": "text",
    "id": "iOAzakBR21Z8"
   },
   "source": [
    "# Imports"
   ]
  },
  {
   "cell_type": "code",
   "execution_count": 128,
   "metadata": {
    "colab": {},
    "colab_type": "code",
    "id": "x-l4S_Tx21Z-"
   },
   "outputs": [],
   "source": [
    "from IPython.display import clear_output # for clear cell display\n",
    "import pandas as pd\n",
    "import numpy as np\n",
    "import time"
   ]
  },
  {
   "cell_type": "markdown",
   "metadata": {
    "colab_type": "text",
    "id": "WnKSasfF21aF"
   },
   "source": [
    "## Read train biological process"
   ]
  },
  {
   "cell_type": "code",
   "execution_count": 129,
   "metadata": {
    "colab": {
     "base_uri": "https://localhost:8080/",
     "height": 232
    },
    "colab_type": "code",
    "id": "11iCnYqe21aF",
    "outputId": "89a2e421-ae3c-41c3-fefd-7f799ef7c575"
   },
   "outputs": [],
   "source": [
    "def get_df(address):\n",
    "    df = pd.read_pickle(address)\n",
    "    print(df.shape)    \n",
    "    return df"
   ]
  },
  {
   "cell_type": "markdown",
   "metadata": {
    "colab_type": "text",
    "id": "CQkFJuMg21aL"
   },
   "source": [
    "## Select only columns 1, 3, 4, 8"
   ]
  },
  {
   "cell_type": "code",
   "execution_count": 130,
   "metadata": {
    "colab": {
     "base_uri": "https://localhost:8080/",
     "height": 158
    },
    "colab_type": "code",
    "id": "5OH1Rdnj21aL",
    "outputId": "67ed93d6-1532-4524-92be-c8dd922786c2"
   },
   "outputs": [],
   "source": [
    "def select_columns(df):\n",
    "    df = df.iloc[:,[0,2,3,7]]        \n",
    "    return df"
   ]
  },
  {
   "cell_type": "markdown",
   "metadata": {},
   "source": [
    "## Keep only proteins  that exist in PPPI network"
   ]
  },
  {
   "cell_type": "code",
   "execution_count": 131,
   "metadata": {},
   "outputs": [],
   "source": [
    "ppi = pd.read_csv('./data/PPI.csv')\n",
    "ppi = pd.concat([ppi['protein1'], ppi['protein2']]).unique()\n",
    "\n",
    "def common_protein(df):    \n",
    "    df = df[df.iloc[:,0].apply(lambda x: x in ppi)]\n",
    "    print(df.shape)\n",
    "    return df"
   ]
  },
  {
   "cell_type": "markdown",
   "metadata": {},
   "source": [
    "## All pairs"
   ]
  },
  {
   "cell_type": "code",
   "execution_count": 132,
   "metadata": {},
   "outputs": [],
   "source": [
    "def get_pairs(df):\n",
    "    start_time = time.time()\n",
    "    proteins = np.array(df.iloc[:,0])\n",
    "    works = np.array(df.iloc[:,1])\n",
    "    p1 = list()\n",
    "    p2 = list()\n",
    "    w = list()\n",
    "    for i in range(0,df.shape[0]):    \n",
    "        for j in range(i+1,df.shape[0]):\n",
    "            p1.append(proteins[i])        \n",
    "            p2.append(proteins[j])\n",
    "            w.append(np.dot(works[i],works[j]))                \n",
    "        if(i%100==0 and i >0):\n",
    "            print(i)\n",
    "            clear_output(wait=True) \n",
    "            \n",
    "    df = pd.DataFrame({'protein1':p1,'protein2':p2,'works':w}, columns = ['protein1', 'protein2','works'])    \n",
    "    print(\"--- %s seconds ---\" % round(time.time() - start_time,2))    \n",
    "    return df"
   ]
  },
  {
   "cell_type": "markdown",
   "metadata": {},
   "source": [
    "## Run for biological process"
   ]
  },
  {
   "cell_type": "code",
   "execution_count": 133,
   "metadata": {},
   "outputs": [
    {
     "name": "stdout",
     "output_type": "stream",
     "text": [
      "(36380, 8)\n"
     ]
    },
    {
     "data": {
      "text/html": [
       "<div>\n",
       "<style scoped>\n",
       "    .dataframe tbody tr th:only-of-type {\n",
       "        vertical-align: middle;\n",
       "    }\n",
       "\n",
       "    .dataframe tbody tr th {\n",
       "        vertical-align: top;\n",
       "    }\n",
       "\n",
       "    .dataframe thead th {\n",
       "        text-align: right;\n",
       "    }\n",
       "</style>\n",
       "<table border=\"1\" class=\"dataframe\">\n",
       "  <thead>\n",
       "    <tr style=\"text-align: right;\">\n",
       "      <th></th>\n",
       "      <th>accessions</th>\n",
       "      <th>gos</th>\n",
       "      <th>labels</th>\n",
       "      <th>ngrams</th>\n",
       "      <th>proteins</th>\n",
       "      <th>sequences</th>\n",
       "      <th>orgs</th>\n",
       "      <th>embeddings</th>\n",
       "    </tr>\n",
       "  </thead>\n",
       "  <tbody>\n",
       "    <tr>\n",
       "      <td>36224</td>\n",
       "      <td>P81928</td>\n",
       "      <td>[GO:0007275]</td>\n",
       "      <td>[0, 0, 0, 0, 0, 0, 0, 0, 0, 0, 0, 0, 0, 0, 0, ...</td>\n",
       "      <td>[4225, 4490, 1799, 3969, 7366, 3315, 2295, 588...</td>\n",
       "      <td>140U_DROME</td>\n",
       "      <td>MNFLWKGRRFLIAGILPTFEGAADEIVDKENKTYKAFLASKPPEET...</td>\n",
       "      <td>7227</td>\n",
       "      <td>[0.0, 0.0, 0.0, 0.0, 0.0, 0.0, 0.0, 0.0, 0.0, ...</td>\n",
       "    </tr>\n",
       "  </tbody>\n",
       "</table>\n",
       "</div>"
      ],
      "text/plain": [
       "      accessions           gos  \\\n",
       "36224     P81928  [GO:0007275]   \n",
       "\n",
       "                                                  labels  \\\n",
       "36224  [0, 0, 0, 0, 0, 0, 0, 0, 0, 0, 0, 0, 0, 0, 0, ...   \n",
       "\n",
       "                                                  ngrams    proteins  \\\n",
       "36224  [4225, 4490, 1799, 3969, 7366, 3315, 2295, 588...  140U_DROME   \n",
       "\n",
       "                                               sequences  orgs  \\\n",
       "36224  MNFLWKGRRFLIAGILPTFEGAADEIVDKENKTYKAFLASKPPEET...  7227   \n",
       "\n",
       "                                              embeddings  \n",
       "36224  [0.0, 0.0, 0.0, 0.0, 0.0, 0.0, 0.0, 0.0, 0.0, ...  "
      ]
     },
     "execution_count": 133,
     "metadata": {},
     "output_type": "execute_result"
    }
   ],
   "source": [
    "df = get_df('./data/train-bp.pkl')\n",
    "df.head(1)"
   ]
  },
  {
   "cell_type": "code",
   "execution_count": 134,
   "metadata": {},
   "outputs": [
    {
     "data": {
      "text/html": [
       "<div>\n",
       "<style scoped>\n",
       "    .dataframe tbody tr th:only-of-type {\n",
       "        vertical-align: middle;\n",
       "    }\n",
       "\n",
       "    .dataframe tbody tr th {\n",
       "        vertical-align: top;\n",
       "    }\n",
       "\n",
       "    .dataframe thead th {\n",
       "        text-align: right;\n",
       "    }\n",
       "</style>\n",
       "<table border=\"1\" class=\"dataframe\">\n",
       "  <thead>\n",
       "    <tr style=\"text-align: right;\">\n",
       "      <th></th>\n",
       "      <th>accessions</th>\n",
       "      <th>labels</th>\n",
       "      <th>ngrams</th>\n",
       "      <th>embeddings</th>\n",
       "    </tr>\n",
       "  </thead>\n",
       "  <tbody>\n",
       "    <tr>\n",
       "      <td>36224</td>\n",
       "      <td>P81928</td>\n",
       "      <td>[0, 0, 0, 0, 0, 0, 0, 0, 0, 0, 0, 0, 0, 0, 0, ...</td>\n",
       "      <td>[4225, 4490, 1799, 3969, 7366, 3315, 2295, 588...</td>\n",
       "      <td>[0.0, 0.0, 0.0, 0.0, 0.0, 0.0, 0.0, 0.0, 0.0, ...</td>\n",
       "    </tr>\n",
       "  </tbody>\n",
       "</table>\n",
       "</div>"
      ],
      "text/plain": [
       "      accessions                                             labels  \\\n",
       "36224     P81928  [0, 0, 0, 0, 0, 0, 0, 0, 0, 0, 0, 0, 0, 0, 0, ...   \n",
       "\n",
       "                                                  ngrams  \\\n",
       "36224  [4225, 4490, 1799, 3969, 7366, 3315, 2295, 588...   \n",
       "\n",
       "                                              embeddings  \n",
       "36224  [0.0, 0.0, 0.0, 0.0, 0.0, 0.0, 0.0, 0.0, 0.0, ...  "
      ]
     },
     "execution_count": 134,
     "metadata": {},
     "output_type": "execute_result"
    }
   ],
   "source": [
    "df = select_columns(df)\n",
    "df.head(1)"
   ]
  },
  {
   "cell_type": "code",
   "execution_count": 135,
   "metadata": {},
   "outputs": [
    {
     "name": "stdout",
     "output_type": "stream",
     "text": [
      "(3834, 4)\n"
     ]
    },
    {
     "data": {
      "text/html": [
       "<div>\n",
       "<style scoped>\n",
       "    .dataframe tbody tr th:only-of-type {\n",
       "        vertical-align: middle;\n",
       "    }\n",
       "\n",
       "    .dataframe tbody tr th {\n",
       "        vertical-align: top;\n",
       "    }\n",
       "\n",
       "    .dataframe thead th {\n",
       "        text-align: right;\n",
       "    }\n",
       "</style>\n",
       "<table border=\"1\" class=\"dataframe\">\n",
       "  <thead>\n",
       "    <tr style=\"text-align: right;\">\n",
       "      <th></th>\n",
       "      <th>accessions</th>\n",
       "      <th>labels</th>\n",
       "      <th>ngrams</th>\n",
       "      <th>embeddings</th>\n",
       "    </tr>\n",
       "  </thead>\n",
       "  <tbody>\n",
       "    <tr>\n",
       "      <td>42202</td>\n",
       "      <td>P62258</td>\n",
       "      <td>[0, 0, 0, 0, 0, 0, 0, 0, 0, 1, 1, 0, 0, 0, 0, ...</td>\n",
       "      <td>[4043, 855, 1084, 5663, 1250, 998, 3960, 7194,...</td>\n",
       "      <td>[-0.707461, -0.440626, 0.28608, -1.23422, 0.47...</td>\n",
       "    </tr>\n",
       "  </tbody>\n",
       "</table>\n",
       "</div>"
      ],
      "text/plain": [
       "      accessions                                             labels  \\\n",
       "42202     P62258  [0, 0, 0, 0, 0, 0, 0, 0, 0, 1, 1, 0, 0, 0, 0, ...   \n",
       "\n",
       "                                                  ngrams  \\\n",
       "42202  [4043, 855, 1084, 5663, 1250, 998, 3960, 7194,...   \n",
       "\n",
       "                                              embeddings  \n",
       "42202  [-0.707461, -0.440626, 0.28608, -1.23422, 0.47...  "
      ]
     },
     "execution_count": 135,
     "metadata": {},
     "output_type": "execute_result"
    }
   ],
   "source": [
    "df = common_protein(df)\n",
    "df.head(1)"
   ]
  },
  {
   "cell_type": "code",
   "execution_count": 136,
   "metadata": {},
   "outputs": [
    {
     "name": "stdout",
     "output_type": "stream",
     "text": [
      "--- 28.24 seconds ---\n",
      "  protein1 protein2  works\n",
      "0   P62258   Q04917     64\n",
      "1   P62258   P61981     52\n",
      "2   P62258   P31947     83\n",
      "3   P62258   P27348     59\n",
      "4   P62258   P63104     57\n"
     ]
    }
   ],
   "source": [
    "df = get_pairs(df)\n",
    "df.to_csv('./data/workers_bp.csv')\n",
    "print(df.head(5))"
   ]
  },
  {
   "cell_type": "markdown",
   "metadata": {},
   "source": [
    "# Run for cellular components"
   ]
  },
  {
   "cell_type": "code",
   "execution_count": 137,
   "metadata": {},
   "outputs": [
    {
     "name": "stdout",
     "output_type": "stream",
     "text": [
      "(35546, 8)\n"
     ]
    },
    {
     "data": {
      "text/html": [
       "<div>\n",
       "<style scoped>\n",
       "    .dataframe tbody tr th:only-of-type {\n",
       "        vertical-align: middle;\n",
       "    }\n",
       "\n",
       "    .dataframe tbody tr th {\n",
       "        vertical-align: top;\n",
       "    }\n",
       "\n",
       "    .dataframe thead th {\n",
       "        text-align: right;\n",
       "    }\n",
       "</style>\n",
       "<table border=\"1\" class=\"dataframe\">\n",
       "  <thead>\n",
       "    <tr style=\"text-align: right;\">\n",
       "      <th></th>\n",
       "      <th>accessions</th>\n",
       "      <th>gos</th>\n",
       "      <th>labels</th>\n",
       "      <th>ngrams</th>\n",
       "      <th>proteins</th>\n",
       "      <th>sequences</th>\n",
       "      <th>orgs</th>\n",
       "      <th>embeddings</th>\n",
       "    </tr>\n",
       "  </thead>\n",
       "  <tbody>\n",
       "    <tr>\n",
       "      <td>12122</td>\n",
       "      <td>P0DJZ0</td>\n",
       "      <td>[GO:0030430]</td>\n",
       "      <td>[0, 0, 0, 0, 0, 0, 0, 0, 0, 0, 0, 0, 0, 0, 0, ...</td>\n",
       "      <td>[4272, 5432, 4637, 4737, 6726, 6511, 2203, 405...</td>\n",
       "      <td>11K_PAVHV</td>\n",
       "      <td>MQNNTTGMDTKSLKNCGQPKAVCTHCKHSPPCPQPGCVTKRPPVPP...</td>\n",
       "      <td>648237</td>\n",
       "      <td>[0.0, 0.0, 0.0, 0.0, 0.0, 0.0, 0.0, 0.0, 0.0, ...</td>\n",
       "    </tr>\n",
       "  </tbody>\n",
       "</table>\n",
       "</div>"
      ],
      "text/plain": [
       "      accessions           gos  \\\n",
       "12122     P0DJZ0  [GO:0030430]   \n",
       "\n",
       "                                                  labels  \\\n",
       "12122  [0, 0, 0, 0, 0, 0, 0, 0, 0, 0, 0, 0, 0, 0, 0, ...   \n",
       "\n",
       "                                                  ngrams   proteins  \\\n",
       "12122  [4272, 5432, 4637, 4737, 6726, 6511, 2203, 405...  11K_PAVHV   \n",
       "\n",
       "                                               sequences    orgs  \\\n",
       "12122  MQNNTTGMDTKSLKNCGQPKAVCTHCKHSPPCPQPGCVTKRPPVPP...  648237   \n",
       "\n",
       "                                              embeddings  \n",
       "12122  [0.0, 0.0, 0.0, 0.0, 0.0, 0.0, 0.0, 0.0, 0.0, ...  "
      ]
     },
     "execution_count": 137,
     "metadata": {},
     "output_type": "execute_result"
    }
   ],
   "source": [
    "df = get_df('./data/train-cc.pkl')\n",
    "df.head(1)"
   ]
  },
  {
   "cell_type": "code",
   "execution_count": 138,
   "metadata": {},
   "outputs": [
    {
     "data": {
      "text/html": [
       "<div>\n",
       "<style scoped>\n",
       "    .dataframe tbody tr th:only-of-type {\n",
       "        vertical-align: middle;\n",
       "    }\n",
       "\n",
       "    .dataframe tbody tr th {\n",
       "        vertical-align: top;\n",
       "    }\n",
       "\n",
       "    .dataframe thead th {\n",
       "        text-align: right;\n",
       "    }\n",
       "</style>\n",
       "<table border=\"1\" class=\"dataframe\">\n",
       "  <thead>\n",
       "    <tr style=\"text-align: right;\">\n",
       "      <th></th>\n",
       "      <th>accessions</th>\n",
       "      <th>labels</th>\n",
       "      <th>ngrams</th>\n",
       "      <th>embeddings</th>\n",
       "    </tr>\n",
       "  </thead>\n",
       "  <tbody>\n",
       "    <tr>\n",
       "      <td>12122</td>\n",
       "      <td>P0DJZ0</td>\n",
       "      <td>[0, 0, 0, 0, 0, 0, 0, 0, 0, 0, 0, 0, 0, 0, 0, ...</td>\n",
       "      <td>[4272, 5432, 4637, 4737, 6726, 6511, 2203, 405...</td>\n",
       "      <td>[0.0, 0.0, 0.0, 0.0, 0.0, 0.0, 0.0, 0.0, 0.0, ...</td>\n",
       "    </tr>\n",
       "  </tbody>\n",
       "</table>\n",
       "</div>"
      ],
      "text/plain": [
       "      accessions                                             labels  \\\n",
       "12122     P0DJZ0  [0, 0, 0, 0, 0, 0, 0, 0, 0, 0, 0, 0, 0, 0, 0, ...   \n",
       "\n",
       "                                                  ngrams  \\\n",
       "12122  [4272, 5432, 4637, 4737, 6726, 6511, 2203, 405...   \n",
       "\n",
       "                                              embeddings  \n",
       "12122  [0.0, 0.0, 0.0, 0.0, 0.0, 0.0, 0.0, 0.0, 0.0, ...  "
      ]
     },
     "execution_count": 138,
     "metadata": {},
     "output_type": "execute_result"
    }
   ],
   "source": [
    "df = select_columns(df)\n",
    "df.head(1)"
   ]
  },
  {
   "cell_type": "code",
   "execution_count": 139,
   "metadata": {},
   "outputs": [
    {
     "name": "stdout",
     "output_type": "stream",
     "text": [
      "(4420, 4)\n"
     ]
    },
    {
     "data": {
      "text/html": [
       "<div>\n",
       "<style scoped>\n",
       "    .dataframe tbody tr th:only-of-type {\n",
       "        vertical-align: middle;\n",
       "    }\n",
       "\n",
       "    .dataframe tbody tr th {\n",
       "        vertical-align: top;\n",
       "    }\n",
       "\n",
       "    .dataframe thead th {\n",
       "        text-align: right;\n",
       "    }\n",
       "</style>\n",
       "<table border=\"1\" class=\"dataframe\">\n",
       "  <thead>\n",
       "    <tr style=\"text-align: right;\">\n",
       "      <th></th>\n",
       "      <th>accessions</th>\n",
       "      <th>labels</th>\n",
       "      <th>ngrams</th>\n",
       "      <th>embeddings</th>\n",
       "    </tr>\n",
       "  </thead>\n",
       "  <tbody>\n",
       "    <tr>\n",
       "      <td>38960</td>\n",
       "      <td>P62258</td>\n",
       "      <td>[0, 0, 0, 0, 0, 0, 0, 0, 0, 0, 0, 0, 0, 0, 0, ...</td>\n",
       "      <td>[4043, 855, 1084, 5663, 1250, 998, 3960, 7194,...</td>\n",
       "      <td>[-0.707461, -0.440626, 0.28608, -1.23422, 0.47...</td>\n",
       "    </tr>\n",
       "  </tbody>\n",
       "</table>\n",
       "</div>"
      ],
      "text/plain": [
       "      accessions                                             labels  \\\n",
       "38960     P62258  [0, 0, 0, 0, 0, 0, 0, 0, 0, 0, 0, 0, 0, 0, 0, ...   \n",
       "\n",
       "                                                  ngrams  \\\n",
       "38960  [4043, 855, 1084, 5663, 1250, 998, 3960, 7194,...   \n",
       "\n",
       "                                              embeddings  \n",
       "38960  [-0.707461, -0.440626, 0.28608, -1.23422, 0.47...  "
      ]
     },
     "execution_count": 139,
     "metadata": {},
     "output_type": "execute_result"
    }
   ],
   "source": [
    "df = common_protein(df)\n",
    "df.head(1)"
   ]
  },
  {
   "cell_type": "code",
   "execution_count": 140,
   "metadata": {},
   "outputs": [
    {
     "name": "stdout",
     "output_type": "stream",
     "text": [
      "--- 44.47 seconds ---\n",
      "  protein1 protein2  works\n",
      "0   P62258   Q04917     20\n",
      "1   P62258   P61981     24\n",
      "2   P62258   P31947     23\n",
      "3   P62258   P27348     24\n",
      "4   P62258   P63104     26\n"
     ]
    }
   ],
   "source": [
    "df = get_pairs(df)\n",
    "df.to_csv('./data/workers_cc.csv')\n",
    "print(df.head(5))"
   ]
  },
  {
   "cell_type": "markdown",
   "metadata": {},
   "source": [
    "## Run for molecular function"
   ]
  },
  {
   "cell_type": "code",
   "execution_count": 141,
   "metadata": {},
   "outputs": [
    {
     "name": "stdout",
     "output_type": "stream",
     "text": [
      "(25224, 8)\n"
     ]
    },
    {
     "data": {
      "text/html": [
       "<div>\n",
       "<style scoped>\n",
       "    .dataframe tbody tr th:only-of-type {\n",
       "        vertical-align: middle;\n",
       "    }\n",
       "\n",
       "    .dataframe tbody tr th {\n",
       "        vertical-align: top;\n",
       "    }\n",
       "\n",
       "    .dataframe thead th {\n",
       "        text-align: right;\n",
       "    }\n",
       "</style>\n",
       "<table border=\"1\" class=\"dataframe\">\n",
       "  <thead>\n",
       "    <tr style=\"text-align: right;\">\n",
       "      <th></th>\n",
       "      <th>accessions</th>\n",
       "      <th>gos</th>\n",
       "      <th>labels</th>\n",
       "      <th>ngrams</th>\n",
       "      <th>proteins</th>\n",
       "      <th>sequences</th>\n",
       "      <th>orgs</th>\n",
       "      <th>embeddings</th>\n",
       "    </tr>\n",
       "  </thead>\n",
       "  <tbody>\n",
       "    <tr>\n",
       "      <td>14149</td>\n",
       "      <td>P32234</td>\n",
       "      <td>[GO:0005525]</td>\n",
       "      <td>[0, 0, 0, 0, 0, 0, 0, 0, 0, 0, 0, 0, 0, 0, 0, ...</td>\n",
       "      <td>[4317, 6328, 6550, 2984, 3669, 1368, 3356, 310...</td>\n",
       "      <td>128UP_DROME</td>\n",
       "      <td>MSTILEKISAIESEMARTQKNKATSAHLGLLKAKLAKLRRELISPK...</td>\n",
       "      <td>7227</td>\n",
       "      <td>[-2.77645, -0.534929, 1.3827, -1.22483, -1.203...</td>\n",
       "    </tr>\n",
       "  </tbody>\n",
       "</table>\n",
       "</div>"
      ],
      "text/plain": [
       "      accessions           gos  \\\n",
       "14149     P32234  [GO:0005525]   \n",
       "\n",
       "                                                  labels  \\\n",
       "14149  [0, 0, 0, 0, 0, 0, 0, 0, 0, 0, 0, 0, 0, 0, 0, ...   \n",
       "\n",
       "                                                  ngrams     proteins  \\\n",
       "14149  [4317, 6328, 6550, 2984, 3669, 1368, 3356, 310...  128UP_DROME   \n",
       "\n",
       "                                               sequences  orgs  \\\n",
       "14149  MSTILEKISAIESEMARTQKNKATSAHLGLLKAKLAKLRRELISPK...  7227   \n",
       "\n",
       "                                              embeddings  \n",
       "14149  [-2.77645, -0.534929, 1.3827, -1.22483, -1.203...  "
      ]
     },
     "execution_count": 141,
     "metadata": {},
     "output_type": "execute_result"
    }
   ],
   "source": [
    "df = get_df('./data/train-mf.pkl')\n",
    "df.head(1)"
   ]
  },
  {
   "cell_type": "code",
   "execution_count": 142,
   "metadata": {},
   "outputs": [
    {
     "data": {
      "text/html": [
       "<div>\n",
       "<style scoped>\n",
       "    .dataframe tbody tr th:only-of-type {\n",
       "        vertical-align: middle;\n",
       "    }\n",
       "\n",
       "    .dataframe tbody tr th {\n",
       "        vertical-align: top;\n",
       "    }\n",
       "\n",
       "    .dataframe thead th {\n",
       "        text-align: right;\n",
       "    }\n",
       "</style>\n",
       "<table border=\"1\" class=\"dataframe\">\n",
       "  <thead>\n",
       "    <tr style=\"text-align: right;\">\n",
       "      <th></th>\n",
       "      <th>accessions</th>\n",
       "      <th>labels</th>\n",
       "      <th>ngrams</th>\n",
       "      <th>embeddings</th>\n",
       "    </tr>\n",
       "  </thead>\n",
       "  <tbody>\n",
       "    <tr>\n",
       "      <td>14149</td>\n",
       "      <td>P32234</td>\n",
       "      <td>[0, 0, 0, 0, 0, 0, 0, 0, 0, 0, 0, 0, 0, 0, 0, ...</td>\n",
       "      <td>[4317, 6328, 6550, 2984, 3669, 1368, 3356, 310...</td>\n",
       "      <td>[-2.77645, -0.534929, 1.3827, -1.22483, -1.203...</td>\n",
       "    </tr>\n",
       "  </tbody>\n",
       "</table>\n",
       "</div>"
      ],
      "text/plain": [
       "      accessions                                             labels  \\\n",
       "14149     P32234  [0, 0, 0, 0, 0, 0, 0, 0, 0, 0, 0, 0, 0, 0, 0, ...   \n",
       "\n",
       "                                                  ngrams  \\\n",
       "14149  [4317, 6328, 6550, 2984, 3669, 1368, 3356, 310...   \n",
       "\n",
       "                                              embeddings  \n",
       "14149  [-2.77645, -0.534929, 1.3827, -1.22483, -1.203...  "
      ]
     },
     "execution_count": 142,
     "metadata": {},
     "output_type": "execute_result"
    }
   ],
   "source": [
    "df = select_columns(df)\n",
    "df.head(1)"
   ]
  },
  {
   "cell_type": "code",
   "execution_count": 143,
   "metadata": {},
   "outputs": [
    {
     "name": "stdout",
     "output_type": "stream",
     "text": [
      "(3153, 4)\n"
     ]
    },
    {
     "data": {
      "text/html": [
       "<div>\n",
       "<style scoped>\n",
       "    .dataframe tbody tr th:only-of-type {\n",
       "        vertical-align: middle;\n",
       "    }\n",
       "\n",
       "    .dataframe tbody tr th {\n",
       "        vertical-align: top;\n",
       "    }\n",
       "\n",
       "    .dataframe thead th {\n",
       "        text-align: right;\n",
       "    }\n",
       "</style>\n",
       "<table border=\"1\" class=\"dataframe\">\n",
       "  <thead>\n",
       "    <tr style=\"text-align: right;\">\n",
       "      <th></th>\n",
       "      <th>accessions</th>\n",
       "      <th>labels</th>\n",
       "      <th>ngrams</th>\n",
       "      <th>embeddings</th>\n",
       "    </tr>\n",
       "  </thead>\n",
       "  <tbody>\n",
       "    <tr>\n",
       "      <td>20966</td>\n",
       "      <td>P62258</td>\n",
       "      <td>[1, 0, 0, 0, 0, 0, 0, 0, 0, 0, 1, 0, 0, 1, 0, ...</td>\n",
       "      <td>[4043, 855, 1084, 5663, 1250, 998, 3960, 7194,...</td>\n",
       "      <td>[-0.707461, -0.440626, 0.28608, -1.23422, 0.47...</td>\n",
       "    </tr>\n",
       "  </tbody>\n",
       "</table>\n",
       "</div>"
      ],
      "text/plain": [
       "      accessions                                             labels  \\\n",
       "20966     P62258  [1, 0, 0, 0, 0, 0, 0, 0, 0, 0, 1, 0, 0, 1, 0, ...   \n",
       "\n",
       "                                                  ngrams  \\\n",
       "20966  [4043, 855, 1084, 5663, 1250, 998, 3960, 7194,...   \n",
       "\n",
       "                                              embeddings  \n",
       "20966  [-0.707461, -0.440626, 0.28608, -1.23422, 0.47...  "
      ]
     },
     "execution_count": 143,
     "metadata": {},
     "output_type": "execute_result"
    }
   ],
   "source": [
    "df = common_protein(df)\n",
    "df.head(1)"
   ]
  },
  {
   "cell_type": "code",
   "execution_count": null,
   "metadata": {},
   "outputs": [
    {
     "name": "stdout",
     "output_type": "stream",
     "text": [
      "--- 22.91 seconds ---\n"
     ]
    }
   ],
   "source": [
    "df = get_pairs(df)\n",
    "df.to_csv('./data/workers_mf.csv')\n",
    "print(df.head(5))"
   ]
  }
 ],
 "metadata": {
  "colab": {
   "collapsed_sections": [],
   "name": "Code.ipynb",
   "provenance": []
  },
  "hide_input": false,
  "kernelspec": {
   "display_name": "Python 3",
   "language": "python",
   "name": "python3"
  },
  "language_info": {
   "codemirror_mode": {
    "name": "ipython",
    "version": 3
   },
   "file_extension": ".py",
   "mimetype": "text/x-python",
   "name": "python",
   "nbconvert_exporter": "python",
   "pygments_lexer": "ipython3",
   "version": "3.8.5"
  },
  "varInspector": {
   "cols": {
    "lenName": 16,
    "lenType": 16,
    "lenVar": 40
   },
   "kernels_config": {
    "python": {
     "delete_cmd_postfix": "",
     "delete_cmd_prefix": "del ",
     "library": "var_list.py",
     "varRefreshCmd": "print(var_dic_list())"
    },
    "r": {
     "delete_cmd_postfix": ") ",
     "delete_cmd_prefix": "rm(",
     "library": "var_list.r",
     "varRefreshCmd": "cat(var_dic_list()) "
    }
   },
   "types_to_exclude": [
    "module",
    "function",
    "builtin_function_or_method",
    "instance",
    "_Feature"
   ],
   "window_display": false
  }
 },
 "nbformat": 4,
 "nbformat_minor": 1
}
