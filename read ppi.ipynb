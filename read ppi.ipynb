{
 "cells": [
  {
   "cell_type": "code",
   "execution_count": 1,
   "metadata": {},
   "outputs": [],
   "source": [
    "import pandas as pd\n",
    "import numpy as np"
   ]
  },
  {
   "cell_type": "code",
   "execution_count": 4,
   "metadata": {},
   "outputs": [
    {
     "name": "stdout",
     "output_type": "stream",
     "text": [
      "(238037, 42)\n"
     ]
    },
    {
     "data": {
      "text/html": [
       "<div>\n",
       "<style scoped>\n",
       "    .dataframe tbody tr th:only-of-type {\n",
       "        vertical-align: middle;\n",
       "    }\n",
       "\n",
       "    .dataframe tbody tr th {\n",
       "        vertical-align: top;\n",
       "    }\n",
       "\n",
       "    .dataframe thead th {\n",
       "        text-align: right;\n",
       "    }\n",
       "</style>\n",
       "<table border=\"1\" class=\"dataframe\">\n",
       "  <thead>\n",
       "    <tr style=\"text-align: right;\">\n",
       "      <th></th>\n",
       "      <th>0</th>\n",
       "      <th>1</th>\n",
       "      <th>2</th>\n",
       "      <th>3</th>\n",
       "      <th>4</th>\n",
       "      <th>5</th>\n",
       "      <th>6</th>\n",
       "      <th>7</th>\n",
       "      <th>8</th>\n",
       "      <th>9</th>\n",
       "      <th>...</th>\n",
       "      <th>32</th>\n",
       "      <th>33</th>\n",
       "      <th>34</th>\n",
       "      <th>35</th>\n",
       "      <th>36</th>\n",
       "      <th>37</th>\n",
       "      <th>38</th>\n",
       "      <th>39</th>\n",
       "      <th>40</th>\n",
       "      <th>41</th>\n",
       "    </tr>\n",
       "  </thead>\n",
       "  <tbody>\n",
       "    <tr>\n",
       "      <td>0</td>\n",
       "      <td>uniprotkb:P0DP25</td>\n",
       "      <td>uniprotkb:A0A087WXN0</td>\n",
       "      <td>ensembl:ENST00000291295.13|ensembl:ENSP0000029...</td>\n",
       "      <td>ensembl:ENST00000612316.4|ensembl:ENSP00000481...</td>\n",
       "      <td>human orfeome collection:1(author assigned name)</td>\n",
       "      <td>human orfeome collection:56859(author assigned...</td>\n",
       "      <td>psi-mi:\"MI:1112\"(two hybrid prey pooling appro...</td>\n",
       "      <td>Luck et al.(2019)</td>\n",
       "      <td>unassigned1304</td>\n",
       "      <td>taxid:9606(Homo Sapiens)</td>\n",
       "      <td>...</td>\n",
       "      <td>-</td>\n",
       "      <td>-</td>\n",
       "      <td>-</td>\n",
       "      <td>-</td>\n",
       "      <td>gal4 dna binding domain:n-n (\"DB domain (n-ter...</td>\n",
       "      <td>gal4 activation domain:n-n (\"AD domain (n-term...</td>\n",
       "      <td>-</td>\n",
       "      <td>-</td>\n",
       "      <td>psi-mi:\"MI1180\"(partial DNA sequence identific...</td>\n",
       "      <td>psi-mi:\"MI1180\"(partial DNA sequence identific...</td>\n",
       "    </tr>\n",
       "  </tbody>\n",
       "</table>\n",
       "<p>1 rows × 42 columns</p>\n",
       "</div>"
      ],
      "text/plain": [
       "                 0                     1   \\\n",
       "0  uniprotkb:P0DP25  uniprotkb:A0A087WXN0   \n",
       "\n",
       "                                                  2   \\\n",
       "0  ensembl:ENST00000291295.13|ensembl:ENSP0000029...   \n",
       "\n",
       "                                                  3   \\\n",
       "0  ensembl:ENST00000612316.4|ensembl:ENSP00000481...   \n",
       "\n",
       "                                                 4   \\\n",
       "0  human orfeome collection:1(author assigned name)   \n",
       "\n",
       "                                                  5   \\\n",
       "0  human orfeome collection:56859(author assigned...   \n",
       "\n",
       "                                                  6                  7   \\\n",
       "0  psi-mi:\"MI:1112\"(two hybrid prey pooling appro...  Luck et al.(2019)   \n",
       "\n",
       "               8                         9   ... 32 33 34 35  \\\n",
       "0  unassigned1304  taxid:9606(Homo Sapiens)  ...  -  -  -  -   \n",
       "\n",
       "                                                  36  \\\n",
       "0  gal4 dna binding domain:n-n (\"DB domain (n-ter...   \n",
       "\n",
       "                                                  37 38 39  \\\n",
       "0  gal4 activation domain:n-n (\"AD domain (n-term...  -  -   \n",
       "\n",
       "                                                  40  \\\n",
       "0  psi-mi:\"MI1180\"(partial DNA sequence identific...   \n",
       "\n",
       "                                                  41  \n",
       "0  psi-mi:\"MI1180\"(partial DNA sequence identific...  \n",
       "\n",
       "[1 rows x 42 columns]"
      ]
     },
     "execution_count": 4,
     "metadata": {},
     "output_type": "execute_result"
    }
   ],
   "source": [
    "df = pd.read_csv('./data/HI-union.psi',sep='\\t',header=None)\n",
    "print(df.shape)\n",
    "df.head(1)"
   ]
  },
  {
   "cell_type": "code",
   "execution_count": null,
   "metadata": {},
   "outputs": [],
   "source": []
  }
 ],
 "metadata": {
  "kernelspec": {
   "display_name": "Python 3",
   "language": "python",
   "name": "python3"
  },
  "language_info": {
   "codemirror_mode": {
    "name": "ipython",
    "version": 3
   },
   "file_extension": ".py",
   "mimetype": "text/x-python",
   "name": "python",
   "nbconvert_exporter": "python",
   "pygments_lexer": "ipython3",
   "version": "3.7.4"
  }
 },
 "nbformat": 4,
 "nbformat_minor": 2
}
