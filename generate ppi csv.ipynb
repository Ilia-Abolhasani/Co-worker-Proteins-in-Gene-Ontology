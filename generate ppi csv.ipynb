{
 "cells": [
  {
   "cell_type": "markdown",
   "metadata": {},
   "source": [
    "# Imports"
   ]
  },
  {
   "cell_type": "code",
   "execution_count": 5,
   "metadata": {},
   "outputs": [],
   "source": [
    "import pandas as pd\n",
    "import numpy as np"
   ]
  },
  {
   "cell_type": "markdown",
   "metadata": {},
   "source": [
    "# Read PPI"
   ]
  },
  {
   "cell_type": "code",
   "execution_count": 6,
   "metadata": {
    "scrolled": true
   },
   "outputs": [
    {
     "name": "stdout",
     "output_type": "stream",
     "text": [
      "(238037, 42)\n"
     ]
    },
    {
     "data": {
      "text/html": [
       "<div>\n",
       "<style scoped>\n",
       "    .dataframe tbody tr th:only-of-type {\n",
       "        vertical-align: middle;\n",
       "    }\n",
       "\n",
       "    .dataframe tbody tr th {\n",
       "        vertical-align: top;\n",
       "    }\n",
       "\n",
       "    .dataframe thead th {\n",
       "        text-align: right;\n",
       "    }\n",
       "</style>\n",
       "<table border=\"1\" class=\"dataframe\">\n",
       "  <thead>\n",
       "    <tr style=\"text-align: right;\">\n",
       "      <th></th>\n",
       "      <th>0</th>\n",
       "      <th>1</th>\n",
       "      <th>2</th>\n",
       "      <th>3</th>\n",
       "      <th>4</th>\n",
       "      <th>5</th>\n",
       "      <th>6</th>\n",
       "      <th>7</th>\n",
       "      <th>8</th>\n",
       "      <th>9</th>\n",
       "      <th>...</th>\n",
       "      <th>32</th>\n",
       "      <th>33</th>\n",
       "      <th>34</th>\n",
       "      <th>35</th>\n",
       "      <th>36</th>\n",
       "      <th>37</th>\n",
       "      <th>38</th>\n",
       "      <th>39</th>\n",
       "      <th>40</th>\n",
       "      <th>41</th>\n",
       "    </tr>\n",
       "  </thead>\n",
       "  <tbody>\n",
       "    <tr>\n",
       "      <td>0</td>\n",
       "      <td>uniprotkb:P0DP25</td>\n",
       "      <td>uniprotkb:A0A087WXN0</td>\n",
       "      <td>ensembl:ENST00000291295.13|ensembl:ENSP0000029...</td>\n",
       "      <td>ensembl:ENST00000612316.4|ensembl:ENSP00000481...</td>\n",
       "      <td>human orfeome collection:1(author assigned name)</td>\n",
       "      <td>human orfeome collection:56859(author assigned...</td>\n",
       "      <td>psi-mi:\"MI:1112\"(two hybrid prey pooling appro...</td>\n",
       "      <td>Luck et al.(2019)</td>\n",
       "      <td>unassigned1304</td>\n",
       "      <td>taxid:9606(Homo Sapiens)</td>\n",
       "      <td>...</td>\n",
       "      <td>-</td>\n",
       "      <td>-</td>\n",
       "      <td>-</td>\n",
       "      <td>-</td>\n",
       "      <td>gal4 dna binding domain:n-n (\"DB domain (n-ter...</td>\n",
       "      <td>gal4 activation domain:n-n (\"AD domain (n-term...</td>\n",
       "      <td>-</td>\n",
       "      <td>-</td>\n",
       "      <td>psi-mi:\"MI1180\"(partial DNA sequence identific...</td>\n",
       "      <td>psi-mi:\"MI1180\"(partial DNA sequence identific...</td>\n",
       "    </tr>\n",
       "  </tbody>\n",
       "</table>\n",
       "<p>1 rows × 42 columns</p>\n",
       "</div>"
      ],
      "text/plain": [
       "                 0                     1   \\\n",
       "0  uniprotkb:P0DP25  uniprotkb:A0A087WXN0   \n",
       "\n",
       "                                                  2   \\\n",
       "0  ensembl:ENST00000291295.13|ensembl:ENSP0000029...   \n",
       "\n",
       "                                                  3   \\\n",
       "0  ensembl:ENST00000612316.4|ensembl:ENSP00000481...   \n",
       "\n",
       "                                                 4   \\\n",
       "0  human orfeome collection:1(author assigned name)   \n",
       "\n",
       "                                                  5   \\\n",
       "0  human orfeome collection:56859(author assigned...   \n",
       "\n",
       "                                                  6                  7   \\\n",
       "0  psi-mi:\"MI:1112\"(two hybrid prey pooling appro...  Luck et al.(2019)   \n",
       "\n",
       "               8                         9   ... 32 33 34 35  \\\n",
       "0  unassigned1304  taxid:9606(Homo Sapiens)  ...  -  -  -  -   \n",
       "\n",
       "                                                  36  \\\n",
       "0  gal4 dna binding domain:n-n (\"DB domain (n-ter...   \n",
       "\n",
       "                                                  37 38 39  \\\n",
       "0  gal4 activation domain:n-n (\"AD domain (n-term...  -  -   \n",
       "\n",
       "                                                  40  \\\n",
       "0  psi-mi:\"MI1180\"(partial DNA sequence identific...   \n",
       "\n",
       "                                                  41  \n",
       "0  psi-mi:\"MI1180\"(partial DNA sequence identific...  \n",
       "\n",
       "[1 rows x 42 columns]"
      ]
     },
     "execution_count": 6,
     "metadata": {},
     "output_type": "execute_result"
    }
   ],
   "source": [
    "df = pd.read_csv('./data/HI-union.psi',sep='\\t',header=None)\n",
    "print(df.shape)\n",
    "df.head(1)"
   ]
  },
  {
   "cell_type": "markdown",
   "metadata": {},
   "source": [
    "# Select columns index = 0, 1"
   ]
  },
  {
   "cell_type": "code",
   "execution_count": 7,
   "metadata": {},
   "outputs": [
    {
     "name": "stdout",
     "output_type": "stream",
     "text": [
      "                    protein1              protein2\n",
      "0           uniprotkb:P0DP25  uniprotkb:A0A087WXN0\n",
      "1         uniprotkb:Q68D86-1    uniprotkb:Q9HD26-2\n",
      "2           uniprotkb:Q13515      uniprotkb:Q9UJW9\n",
      "3           uniprotkb:P30049    uniprotkb:Q05519-2\n",
      "4  ensembl:ENSP00000462298.1      uniprotkb:P43220\n"
     ]
    }
   ],
   "source": [
    "df = df.iloc[:,[0,1]]\n",
    "df.columns = ['protein1','protein2']\n",
    "\n",
    "print(df.head())"
   ]
  },
  {
   "cell_type": "markdown",
   "metadata": {},
   "source": [
    "# Remove db name prifix and version postfix"
   ]
  },
  {
   "cell_type": "code",
   "execution_count": 8,
   "metadata": {},
   "outputs": [],
   "source": [
    "### drop row with ensembl value\n",
    "#df = df.drop(df[df.iloc[:,0].apply(lambda x: x[:8]) == 'ensembl:'].index)\n",
    "#df = df.drop(df[df.iloc[:,1].apply(lambda x: x[:8]) == 'ensembl:'].index)\n",
    "#df.head(5)"
   ]
  },
  {
   "cell_type": "markdown",
   "metadata": {},
   "source": [
    "### Remove uniprotkb prifix"
   ]
  },
  {
   "cell_type": "code",
   "execution_count": 9,
   "metadata": {},
   "outputs": [
    {
     "data": {
      "text/html": [
       "<div>\n",
       "<style scoped>\n",
       "    .dataframe tbody tr th:only-of-type {\n",
       "        vertical-align: middle;\n",
       "    }\n",
       "\n",
       "    .dataframe tbody tr th {\n",
       "        vertical-align: top;\n",
       "    }\n",
       "\n",
       "    .dataframe thead th {\n",
       "        text-align: right;\n",
       "    }\n",
       "</style>\n",
       "<table border=\"1\" class=\"dataframe\">\n",
       "  <thead>\n",
       "    <tr style=\"text-align: right;\">\n",
       "      <th></th>\n",
       "      <th>protein1</th>\n",
       "      <th>protein2</th>\n",
       "    </tr>\n",
       "  </thead>\n",
       "  <tbody>\n",
       "    <tr>\n",
       "      <td>0</td>\n",
       "      <td>P0DP25</td>\n",
       "      <td>A0A087WXN0</td>\n",
       "    </tr>\n",
       "    <tr>\n",
       "      <td>1</td>\n",
       "      <td>Q68D86-1</td>\n",
       "      <td>Q9HD26-2</td>\n",
       "    </tr>\n",
       "    <tr>\n",
       "      <td>2</td>\n",
       "      <td>Q13515</td>\n",
       "      <td>Q9UJW9</td>\n",
       "    </tr>\n",
       "    <tr>\n",
       "      <td>3</td>\n",
       "      <td>P30049</td>\n",
       "      <td>Q05519-2</td>\n",
       "    </tr>\n",
       "    <tr>\n",
       "      <td>4</td>\n",
       "      <td>ensembl:ENSP00000462298.1</td>\n",
       "      <td>P43220</td>\n",
       "    </tr>\n",
       "  </tbody>\n",
       "</table>\n",
       "</div>"
      ],
      "text/plain": [
       "                    protein1    protein2\n",
       "0                     P0DP25  A0A087WXN0\n",
       "1                   Q68D86-1    Q9HD26-2\n",
       "2                     Q13515      Q9UJW9\n",
       "3                     P30049    Q05519-2\n",
       "4  ensembl:ENSP00000462298.1      P43220"
      ]
     },
     "execution_count": 9,
     "metadata": {},
     "output_type": "execute_result"
    }
   ],
   "source": [
    "df.iloc[:,0] = df.iloc[:,0].apply(lambda x: x.replace('uniprotkb:',''))\n",
    "df.iloc[:,1] = df.iloc[:,1].apply(lambda x: x.replace('uniprotkb:',''))\n",
    "df.head(5)"
   ]
  },
  {
   "cell_type": "markdown",
   "metadata": {},
   "source": [
    "### Remove version suffix"
   ]
  },
  {
   "cell_type": "code",
   "execution_count": 10,
   "metadata": {},
   "outputs": [
    {
     "data": {
      "text/html": [
       "<div>\n",
       "<style scoped>\n",
       "    .dataframe tbody tr th:only-of-type {\n",
       "        vertical-align: middle;\n",
       "    }\n",
       "\n",
       "    .dataframe tbody tr th {\n",
       "        vertical-align: top;\n",
       "    }\n",
       "\n",
       "    .dataframe thead th {\n",
       "        text-align: right;\n",
       "    }\n",
       "</style>\n",
       "<table border=\"1\" class=\"dataframe\">\n",
       "  <thead>\n",
       "    <tr style=\"text-align: right;\">\n",
       "      <th></th>\n",
       "      <th>protein1</th>\n",
       "      <th>protein2</th>\n",
       "    </tr>\n",
       "  </thead>\n",
       "  <tbody>\n",
       "    <tr>\n",
       "      <td>0</td>\n",
       "      <td>P0DP25</td>\n",
       "      <td>A0A087WXN0</td>\n",
       "    </tr>\n",
       "    <tr>\n",
       "      <td>1</td>\n",
       "      <td>Q68D86</td>\n",
       "      <td>Q9HD26</td>\n",
       "    </tr>\n",
       "    <tr>\n",
       "      <td>2</td>\n",
       "      <td>Q13515</td>\n",
       "      <td>Q9UJW9</td>\n",
       "    </tr>\n",
       "    <tr>\n",
       "      <td>3</td>\n",
       "      <td>P30049</td>\n",
       "      <td>Q05519</td>\n",
       "    </tr>\n",
       "    <tr>\n",
       "      <td>4</td>\n",
       "      <td>ensembl:ENSP00000462298.1</td>\n",
       "      <td>P43220</td>\n",
       "    </tr>\n",
       "  </tbody>\n",
       "</table>\n",
       "</div>"
      ],
      "text/plain": [
       "                    protein1    protein2\n",
       "0                     P0DP25  A0A087WXN0\n",
       "1                     Q68D86      Q9HD26\n",
       "2                     Q13515      Q9UJW9\n",
       "3                     P30049      Q05519\n",
       "4  ensembl:ENSP00000462298.1      P43220"
      ]
     },
     "execution_count": 10,
     "metadata": {},
     "output_type": "execute_result"
    }
   ],
   "source": [
    "df.iloc[:,0] = df.iloc[:,0].apply(lambda x: x.split('-')[0])\n",
    "df.iloc[:,1] = df.iloc[:,1].apply(lambda x: x.split('-')[0])\n",
    "df.head(5)"
   ]
  },
  {
   "cell_type": "code",
   "execution_count": 46,
   "metadata": {},
   "outputs": [
    {
     "name": "stdout",
     "output_type": "stream",
     "text": [
      "finial PPI network size : (232626, 2)\n"
     ]
    }
   ],
   "source": [
    "print(f'finial PPI network size : {df.shape}')"
   ]
  },
  {
   "cell_type": "code",
   "execution_count": 47,
   "metadata": {},
   "outputs": [],
   "source": [
    "df.to_csv('./data/PPI.csv')"
   ]
  },
  {
   "cell_type": "code",
   "execution_count": 11,
   "metadata": {},
   "outputs": [],
   "source": [
    "ppi = pd.read_csv('./data/PPI.csv')"
   ]
  }
 ],
 "metadata": {
  "hide_input": false,
  "kernelspec": {
   "display_name": "Python 3",
   "language": "python",
   "name": "python3"
  },
  "language_info": {
   "codemirror_mode": {
    "name": "ipython",
    "version": 3
   },
   "file_extension": ".py",
   "mimetype": "text/x-python",
   "name": "python",
   "nbconvert_exporter": "python",
   "pygments_lexer": "ipython3",
   "version": "3.8.5"
  },
  "varInspector": {
   "cols": {
    "lenName": 16,
    "lenType": 16,
    "lenVar": 40
   },
   "kernels_config": {
    "python": {
     "delete_cmd_postfix": "",
     "delete_cmd_prefix": "del ",
     "library": "var_list.py",
     "varRefreshCmd": "print(var_dic_list())"
    },
    "r": {
     "delete_cmd_postfix": ") ",
     "delete_cmd_prefix": "rm(",
     "library": "var_list.r",
     "varRefreshCmd": "cat(var_dic_list()) "
    }
   },
   "types_to_exclude": [
    "module",
    "function",
    "builtin_function_or_method",
    "instance",
    "_Feature"
   ],
   "window_display": false
  }
 },
 "nbformat": 4,
 "nbformat_minor": 2
}
